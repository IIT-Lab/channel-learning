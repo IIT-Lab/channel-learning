{
 "cells": [
  {
   "cell_type": "markdown",
   "metadata": {},
   "source": [
    "# 20 MBS antennas, 1 frequency sample, angular-frequency feature, Amplitude, log, lloyd@20"
   ]
  },
  {
   "cell_type": "raw",
   "metadata": {},
   "source": [
    "lambda=2\n",
    "Training Set Accuracy: 75.800000\n",
    "Validation Set Accuracy: 73.000000\n",
    "\n",
    "lambda=1\n",
    "Training Set Accuracy: 78.700000\n",
    "Validation Set Accuracy: 74.900000\n",
    "\n",
    "lambda=0.1\n",
    "Training Set Accuracy: 92.900000\n",
    "Validation Set Accuracy: 74.300000\n",
    "\n",
    "lambda=0.01\n",
    "Training Set Accuracy: 94.100000\n",
    "Validation Set Accuracy: 74.700000"
   ]
  },
  {
   "cell_type": "markdown",
   "metadata": {},
   "source": [
    "Comment：即使将lambda减小到很小，training set上的accuracy也达不到100%。可能的解释是：feature只有20维，包含的信息不够不足以支撑generalize出一个准确的预测模型。检验方法，增加天线数目，如果训练集和测试集准确度均上升则假设正确。 "
   ]
  },
  {
   "cell_type": "markdown",
   "metadata": {},
   "source": [
    "# 40 MBS antennas, 1 frequency sample, angular-frequency feature, Amplitude, log, lloyd@20"
   ]
  },
  {
   "cell_type": "raw",
   "metadata": {},
   "source": [
    "lambda=10\n",
    "Training Set Accuracy: 71.500000\n",
    "Validation Set Accuracy: 67.600000\n",
    "\n",
    "lambda=4\n",
    "Training Set Accuracy: 74.400000\n",
    "Validation Set Accuracy: 74.200000\n",
    "\n",
    "lambda=2\n",
    "Training Set Accuracy: 79.100000\n",
    "Validation Set Accuracy: 76.200000\n",
    "\n",
    "lambda=1\n",
    "Training Set Accuracy: 82.800000\n",
    "Validation Set Accuracy: 75.600000\n",
    "\n",
    "lambda=0.1\n",
    "Training Set Accuracy: 93.600000\n",
    "Validation Set Accuracy: 74.400000\n",
    "\n",
    "lambda = 0.01\n",
    "Training Set Accuracy: 97.900000\n",
    "Validation Set Accuracy: 70.700000"
   ]
  },
  {
   "cell_type": "markdown",
   "metadata": {},
   "source": [
    "# 80 MBS antennas, 1 frequency sample, angular-frequency feature, Amplitude, log, lloyd@20"
   ]
  },
  {
   "cell_type": "raw",
   "metadata": {},
   "source": [
    "lambda=4\n",
    "Training Set Accuracy: 77.500000\n",
    "Validation Set Accuracy: 74.500000\n",
    "\n",
    "lambda=2\n",
    "Training Set Accuracy: 83.900000\n",
    "Validation Set Accuracy: 77.300000\n",
    "\n",
    "lambda=1\n",
    "Training Set Accuracy: 88.400000\n",
    "Validation Set Accuracy: 74.700000\n",
    "\n",
    "lambda=0.1\n",
    "Training Set Accuracy: 100.000000\n",
    "Validation Set Accuracy: 69.900000"
   ]
  },
  {
   "cell_type": "markdown",
   "metadata": {},
   "source": [
    "Comment: 随着天线数目增加，lambda较小时训练集精度逐步提升直到过拟合，说明feature的信息量增加了；另外，测试集的精度也有一定的提升。这些印证了之前推测。"
   ]
  },
  {
   "cell_type": "markdown",
   "metadata": {},
   "source": [
    "# 20 MBS antennas, 11 frequency sample, angular-frequency feature, Amplitude, log, lloyd@20"
   ]
  },
  {
   "cell_type": "raw",
   "metadata": {},
   "source": [
    "Lambda=4\n",
    "Training Set Accuracy: 87.500000\n",
    "Validation Set Accuracy: 82.300000\n",
    "Training Set Accuracy: 88.800000\n",
    "Validation Set Accuracy: 80.800000\n",
    "\n",
    "Lambda=2\n",
    "Training Set Accuracy: 93.500000\n",
    "Validation Set Accuracy: 83.900000\n",
    "Training Set Accuracy: 94.000000\n",
    "Validation Set Accuracy: 79.500000\n",
    "Training Set Accuracy: 94.000000\n",
    "Validation Set Accuracy: 80.300000\n",
    "\n",
    "lambda=1\n",
    "Training Set Accuracy: 99.300000\n",
    "Validation Set Accuracy: 81.700000\n",
    "\n",
    "lambda=0.1\n",
    "Training Set Accuracy: 100.000000\n",
    "Validation Set Accuracy: 78.800000\n",
    "\n",
    "lambda=0.01\n",
    "Training Set Accuracy: 100.000000\n",
    "Validation Set Accuracy: 78.500000"
   ]
  },
  {
   "cell_type": "markdown",
   "metadata": {},
   "source": [
    "# 20 MBS antennas, 11 frequency sample, angular-temporal feature, Amplitude, log, lloyd@20"
   ]
  },
  {
   "cell_type": "raw",
   "metadata": {},
   "source": [
    "Lambda=10\n",
    "Training Set Accuracy: 81.200000\n",
    "Validation Set Accuracy: 74.600000\n",
    "Training Set Accuracy: 82.100000\n",
    "Validation Set Accuracy: 74.300000\n",
    "\n",
    "Lambda=4\n",
    "Training Set Accuracy: 86.000000\n",
    "Validation Set Accuracy: 75.500000\n",
    "Training Set Accuracy: 86.700000\n",
    "Validation Set Accuracy: 76.300000\n",
    "\n",
    "Lambda=2\n",
    "Training Set Accuracy: 97.500000\n",
    "Validation Set Accuracy: 75.200000\n",
    "Training Set Accuracy: 96.800000\n",
    "Validation Set Accuracy: 73.900000\n",
    "\n",
    "lambda=1\n",
    "Training Set Accuracy: 100.000000\n",
    "Validation Set Accuracy: 73.800000\n",
    "Training Set Accuracy: 100.000000\n",
    "Validation Set Accuracy: 74.800000\n",
    "\n",
    "lambda=0.1\n",
    "Training Set Accuracy: 100.000000\n",
    "Validation Set Accuracy: 73.200000"
   ]
  },
  {
   "cell_type": "markdown",
   "metadata": {},
   "source": [
    "Comment: 角度-频率的最高可达精度比角度-时延的高5个百分点左右，这是比较奇怪的，因为两种feature包含了相同的信息，需要进一步检验。"
   ]
  }
 ],
 "metadata": {
  "kernelspec": {
   "display_name": "Python 2",
   "language": "python",
   "name": "python2"
  },
  "language_info": {
   "codemirror_mode": {
    "name": "ipython",
    "version": 2
   },
   "file_extension": ".py",
   "mimetype": "text/x-python",
   "name": "python",
   "nbconvert_exporter": "python",
   "pygments_lexer": "ipython2",
   "version": "2.7.9"
  }
 },
 "nbformat": 4,
 "nbformat_minor": 0
}
